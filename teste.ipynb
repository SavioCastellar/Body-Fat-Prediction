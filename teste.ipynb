{
 "cells": [
  {
   "attachments": {},
   "cell_type": "markdown",
   "metadata": {},
   "source": [
    "## Body Fat Prediction"
   ]
  },
  {
   "cell_type": "code",
   "execution_count": 1,
   "metadata": {},
   "outputs": [],
   "source": [
    "# Imports\n",
    "\n",
    "import os\n",
    "import tarfile\n",
    "from six.moves import urllib\n",
    "import pandas as pd\n",
    "import matplotlib.pyplot as plt\n",
    "import numpy as np\n",
    "from sklearn.metrics import SCORERS\n",
    "from sklearn.model_selection import cross_val_score, cross_val_predict, train_test_split, cross_validate, KFold"
   ]
  },
  {
   "cell_type": "code",
   "execution_count": 2,
   "metadata": {},
   "outputs": [
    {
     "name": "stdout",
     "output_type": "stream",
     "text": [
      "dict_keys(['explained_variance', 'r2', 'max_error', 'neg_median_absolute_error', 'neg_mean_absolute_error', 'neg_mean_absolute_percentage_error', 'neg_mean_squared_error', 'neg_mean_squared_log_error', 'neg_root_mean_squared_error', 'neg_mean_poisson_deviance', 'neg_mean_gamma_deviance', 'accuracy', 'top_k_accuracy', 'roc_auc', 'roc_auc_ovr', 'roc_auc_ovo', 'roc_auc_ovr_weighted', 'roc_auc_ovo_weighted', 'balanced_accuracy', 'average_precision', 'neg_log_loss', 'neg_brier_score', 'adjusted_rand_score', 'rand_score', 'homogeneity_score', 'completeness_score', 'v_measure_score', 'mutual_info_score', 'adjusted_mutual_info_score', 'normalized_mutual_info_score', 'fowlkes_mallows_score', 'precision', 'precision_macro', 'precision_micro', 'precision_samples', 'precision_weighted', 'recall', 'recall_macro', 'recall_micro', 'recall_samples', 'recall_weighted', 'f1', 'f1_macro', 'f1_micro', 'f1_samples', 'f1_weighted', 'jaccard', 'jaccard_macro', 'jaccard_micro', 'jaccard_samples', 'jaccard_weighted'])\n"
     ]
    }
   ],
   "source": [
    "print(SCORERS.keys())"
   ]
  },
  {
   "cell_type": "code",
   "execution_count": 3,
   "metadata": {},
   "outputs": [
    {
     "data": {
      "text/plain": [
       "'neg_root_mean_squared_error'"
      ]
     },
     "execution_count": 3,
     "metadata": {},
     "output_type": "execute_result"
    }
   ],
   "source": [
    "'neg_mean_absolute_error'\n",
    "'neg_mean_absolute_percentage_error'\n",
    "'neg_root_mean_squared_error'\n",
    "'max_error'"
   ]
  },
  {
   "attachments": {},
   "cell_type": "markdown",
   "metadata": {},
   "source": [
    "Getting Data"
   ]
  },
  {
   "cell_type": "code",
   "execution_count": 25,
   "metadata": {},
   "outputs": [],
   "source": [
    "bodyfat = pd.read_csv(\"bodyfat.csv\")\n",
    "df = pd.DataFrame(bodyfat)\n",
    "df['Weight'] = df['Weight'] * 0.45"
   ]
  },
  {
   "cell_type": "code",
   "execution_count": 26,
   "metadata": {},
   "outputs": [],
   "source": [
    "df = df.sort_values(by=['Weight'])\n",
    "# df_split = np.array_split(df, 5)"
   ]
  },
  {
   "cell_type": "code",
   "execution_count": 38,
   "metadata": {},
   "outputs": [],
   "source": [
    "df_70 = df[df['Weight'] <= 70]\n",
    "df_75 = df[(df['Weight'] > 70) & (df['Weight'] <= 75)]\n",
    "df_80 = df[(df['Weight'] > 75) & (df['Weight'] <= 80)]\n",
    "df_90 = df[(df['Weight'] > 80) & (df['Weight'] <= 90)]\n",
    "heavy = df[df['Weight'] > 90]"
   ]
  },
  {
   "cell_type": "code",
   "execution_count": 39,
   "metadata": {},
   "outputs": [
    {
     "name": "stdout",
     "output_type": "stream",
     "text": [
      "51\n",
      "36\n",
      "46\n",
      "61\n",
      "55\n"
     ]
    }
   ],
   "source": [
    "print(len(df_70))\n",
    "print(len(df_75))\n",
    "print(len(df_80))\n",
    "print(len(df_90))\n",
    "print(len(heavy))"
   ]
  },
  {
   "cell_type": "code",
   "execution_count": 4,
   "metadata": {},
   "outputs": [],
   "source": [
    "# healthy = df[df['Weight'] <= 100]\n",
    "# heavy = df[df['Weight'] > 100]"
   ]
  },
  {
   "attachments": {},
   "cell_type": "markdown",
   "metadata": {},
   "source": [
    "New DataFrames"
   ]
  },
  {
   "cell_type": "code",
   "execution_count": 5,
   "metadata": {},
   "outputs": [],
   "source": [
    "labels = df['BodyFat']\n",
    "features = df.drop(columns=['Density', 'BodyFat'])\n",
    "\n",
    "labels_healthy = healthy['BodyFat']\n",
    "features_healthy = healthy.drop(columns=['Density', 'BodyFat'])\n",
    "\n",
    "labels_heavy = heavy['BodyFat']\n",
    "features_heavy = heavy.drop(columns=['Density', 'BodyFat'])"
   ]
  },
  {
   "attachments": {},
   "cell_type": "markdown",
   "metadata": {},
   "source": [
    "Labeling Data"
   ]
  },
  {
   "cell_type": "code",
   "execution_count": 6,
   "metadata": {},
   "outputs": [],
   "source": [
    "from sklearn.preprocessing import MinMaxScaler, LabelEncoder, StandardScaler\n",
    "from sklearn_pandas import DataFrameMapper"
   ]
  },
  {
   "cell_type": "code",
   "execution_count": 7,
   "metadata": {},
   "outputs": [],
   "source": [
    "mapper = DataFrameMapper([(features.columns, StandardScaler())])\n",
    "x = mapper.fit_transform(features)\n",
    "x = pd.DataFrame(x, index=features.index, columns=features.columns)\n",
    "y = labels\n",
    "\n",
    "mapper = DataFrameMapper([(features_healthy.columns, StandardScaler())])\n",
    "x_n = mapper.fit_transform(features_healthy)\n",
    "x_n = pd.DataFrame(x_n, index=features_healthy.index, columns=features_healthy.columns)\n",
    "y_n = labels_healthy\n",
    "\n",
    "mapper = DataFrameMapper([(features_heavy.columns, StandardScaler())])\n",
    "x_h = mapper.fit_transform(features_heavy)\n",
    "x_h = pd.DataFrame(x_h, index=features_heavy.index, columns=features_heavy.columns)\n",
    "y_h = labels_heavy"
   ]
  },
  {
   "attachments": {},
   "cell_type": "markdown",
   "metadata": {},
   "source": [
    "### Models"
   ]
  },
  {
   "cell_type": "code",
   "execution_count": 8,
   "metadata": {},
   "outputs": [],
   "source": [
    "from sklearn.tree import DecisionTreeRegressor\n",
    "from sklearn.linear_model import LinearRegression\n",
    "from sklearn.ensemble import RandomForestRegressor\n",
    "from xgboost import XGBRegressor\n",
    "from sklearn.svm import SVR"
   ]
  },
  {
   "attachments": {},
   "cell_type": "markdown",
   "metadata": {},
   "source": [
    "Linear Regression"
   ]
  },
  {
   "cell_type": "code",
   "execution_count": 9,
   "metadata": {},
   "outputs": [],
   "source": [
    "def linRegModel(x_train, y_train):\n",
    "    lin_reg = LinearRegression()\n",
    "    lin_reg.fit(x_train, y_train)\n",
    "\n",
    "    return lin_reg"
   ]
  },
  {
   "attachments": {},
   "cell_type": "markdown",
   "metadata": {},
   "source": [
    "Decision Tree"
   ]
  },
  {
   "cell_type": "code",
   "execution_count": 10,
   "metadata": {},
   "outputs": [],
   "source": [
    "def treeRegModel(x_train, y_train):\n",
    "    tree_reg = DecisionTreeRegressor()\n",
    "    tree_reg.fit(x_train, y_train)\n",
    "    # scores = cross_val_score(tree_reg, x_train, y_train, scoring = 'r2', cv = 10)\n",
    "\n",
    "    return tree_reg"
   ]
  },
  {
   "attachments": {},
   "cell_type": "markdown",
   "metadata": {},
   "source": [
    "Random Forest"
   ]
  },
  {
   "cell_type": "code",
   "execution_count": 11,
   "metadata": {},
   "outputs": [],
   "source": [
    "def rfModel(x_train, y_train):\n",
    "    rf = RandomForestRegressor(random_state = 42)\n",
    "    rf.fit(x_train, y_train)\n",
    "    \n",
    "    return rf"
   ]
  },
  {
   "attachments": {},
   "cell_type": "markdown",
   "metadata": {},
   "source": [
    "XGBoost"
   ]
  },
  {
   "cell_type": "code",
   "execution_count": 12,
   "metadata": {},
   "outputs": [],
   "source": [
    "def xgbModel(x_train, y_train):\n",
    "    xgboost = XGBRegressor(max_depth = 5)\n",
    "    xgboost.fit(x_train, y_train)\n",
    "    \n",
    "    return xgboost"
   ]
  },
  {
   "attachments": {},
   "cell_type": "markdown",
   "metadata": {},
   "source": [
    "Support Vector Machine"
   ]
  },
  {
   "cell_type": "code",
   "execution_count": 13,
   "metadata": {},
   "outputs": [],
   "source": [
    "def svmModel(x_train, y_train):\n",
    "    svm = SVR(kernel = 'rbf') #???\n",
    "    svm.fit(x, y)\n",
    "\n",
    "    return svm"
   ]
  },
  {
   "attachments": {},
   "cell_type": "markdown",
   "metadata": {},
   "source": [
    "## Feature Selection"
   ]
  },
  {
   "attachments": {},
   "cell_type": "markdown",
   "metadata": {},
   "source": [
    "Pearson"
   ]
  },
  {
   "cell_type": "code",
   "execution_count": 14,
   "metadata": {},
   "outputs": [],
   "source": [
    "\n",
    "pearson = ['Abdomen', 'Chest', 'Hip', 'Weight', 'Thigh', 'Knee', 'Biceps', 'Neck', 'Forearm', 'Wrist', 'Age', 'Ankle', 'Height']"
   ]
  },
  {
   "attachments": {},
   "cell_type": "markdown",
   "metadata": {},
   "source": [
    "Lasso"
   ]
  },
  {
   "cell_type": "code",
   "execution_count": 15,
   "metadata": {},
   "outputs": [],
   "source": [
    "lasso = ['Abdomen', 'Wrist', 'Weight', 'Neck', 'Age', 'Forearm', 'Height', 'Hip', 'Thigh', 'Biceps', 'Chest', 'Knee', 'Ankle']"
   ]
  },
  {
   "attachments": {},
   "cell_type": "markdown",
   "metadata": {},
   "source": [
    "RFE"
   ]
  },
  {
   "cell_type": "code",
   "execution_count": 16,
   "metadata": {},
   "outputs": [],
   "source": [
    "rfe = ['Age', 'Weight', 'Height', 'Neck', 'Chest', 'Abdomen', 'Hip', 'Thigh', 'Knee', 'Ankle', 'Biceps', 'Forearm', 'Wrist']"
   ]
  },
  {
   "attachments": {},
   "cell_type": "markdown",
   "metadata": {},
   "source": [
    "### Evaluating"
   ]
  },
  {
   "cell_type": "code",
   "execution_count": 17,
   "metadata": {},
   "outputs": [],
   "source": [
    "x_train_list = []\n",
    "x_test_list = []\n",
    "y_train_list = []\n",
    "y_test_list = []"
   ]
  },
  {
   "attachments": {},
   "cell_type": "markdown",
   "metadata": {},
   "source": [
    "Splitting Data"
   ]
  },
  {
   "cell_type": "code",
   "execution_count": 18,
   "metadata": {},
   "outputs": [],
   "source": [
    "def splitDataFrame(x, y, feature_selection):\n",
    "    x_train_list.clear()\n",
    "    x_test_list.clear()\n",
    "    y_train_list.clear()\n",
    "    y_test_list.clear()\n",
    "\n",
    "    for i in range(1, 14):\n",
    "        x_feat = x[feature_selection[:i]]\n",
    "        # x_split = x.iloc[:, 0:i]\n",
    "        x_train, x_test, y_train, y_test = train_test_split(x_feat, y, test_size=0.3, random_state=42)\n",
    "        x_train_list.append(x_train)\n",
    "        x_test_list.append(x_test)\n",
    "        y_train_list.append(y_train)\n",
    "        y_test_list.append(y_test)\n",
    "\n",
    "    return x_train_list, x_test_list, y_train_list, y_test_list"
   ]
  },
  {
   "attachments": {},
   "cell_type": "markdown",
   "metadata": {},
   "source": [
    "Cross-Validation"
   ]
  },
  {
   "cell_type": "code",
   "execution_count": 19,
   "metadata": {},
   "outputs": [],
   "source": [
    "def cvScores(model, x_train, y_train, criteria):\n",
    "    # lin_reg = LinearRegression()\n",
    "    # lin_reg.fit(x_train, y_train)\n",
    "    scores = cross_val_score(model, x_train, y_train, scoring=criteria, cv=5)\n",
    "\n",
    "    return scores.mean()"
   ]
  },
  {
   "cell_type": "code",
   "execution_count": 20,
   "metadata": {},
   "outputs": [],
   "source": [
    "def evaluatingModel(model, x_train, y_train):\n",
    "    mean_mape = cvScores(model, x_train, y_train, 'neg_mean_absolute_percentage_error')\n",
    "    mean_mape = abs(mean_mape)\n",
    "    mean_mae = cvScores(model, x_train, y_train, 'neg_mean_absolute_error')\n",
    "    mean_mae = abs(mean_mae)\n",
    "    mean_rmse = cvScores(model, x_train, y_train, 'neg_root_mean_squared_error')\n",
    "    mean_rmse = abs(mean_rmse)\n",
    "\n",
    "    return mean_mape, mean_mae, mean_rmse"
   ]
  },
  {
   "cell_type": "code",
   "execution_count": 21,
   "metadata": {},
   "outputs": [],
   "source": [
    "table = [['feat_selection','modelo','data_partition', 'feat_set','MAPE','MAE','RMSE']]\n",
    "model_names = ['LR', 'DT', 'RF', 'XGB', 'RF']"
   ]
  },
  {
   "cell_type": "code",
   "execution_count": 22,
   "metadata": {},
   "outputs": [],
   "source": [
    "def results(feat_selection, model_name, data_set, table, model, x_train, y_train):\n",
    "    for i in range(13):\n",
    "        row = [feat_selection]\n",
    "        row.append(model_name)\n",
    "        row.append(data_set)\n",
    "        row.append(i+1)\n",
    "        mean_mape, mean_mae, mean_rmse = evaluatingModel(model[i], x_train[i], y_train[i])\n",
    "        row.append(mean_mape.round(4))\n",
    "        row.append(mean_mae.round(4))\n",
    "        row.append(mean_rmse.round(4))\n",
    "        table.append(row)\n",
    "    \n",
    "    return table"
   ]
  },
  {
   "attachments": {},
   "cell_type": "markdown",
   "metadata": {},
   "source": [
    "## Running"
   ]
  },
  {
   "attachments": {},
   "cell_type": "markdown",
   "metadata": {},
   "source": [
    "#### Feature Selection: Pearson\n"
   ]
  },
  {
   "attachments": {},
   "cell_type": "markdown",
   "metadata": {},
   "source": [
    "Data: Whole dataset"
   ]
  },
  {
   "cell_type": "code",
   "execution_count": 23,
   "metadata": {},
   "outputs": [],
   "source": [
    "x_train_list, x_test_list, y_train_list, y_test_list = splitDataFrame(x, y, pearson)"
   ]
  },
  {
   "cell_type": "code",
   "execution_count": 24,
   "metadata": {},
   "outputs": [],
   "source": [
    "lin_reg = []\n",
    "tree_reg = []\n",
    "rf = []\n",
    "xgb = []\n",
    "svm = []\n",
    "\n",
    "for i in range(13):\n",
    "    lin_reg.append(linRegModel(x_train_list[i], y_train_list[i]))\n",
    "    tree_reg.append(treeRegModel(x_train_list[i], y_train_list[i]))\n",
    "    rf.append(rfModel(x_train_list[i], y_train_list[i]))\n",
    "    xgb.append(xgbModel(x_train_list[i], y_train_list[i]))\n",
    "    svm.append(svmModel(x_train_list[i], y_train_list[i]))"
   ]
  },
  {
   "cell_type": "code",
   "execution_count": 25,
   "metadata": {},
   "outputs": [],
   "source": [
    "table = results('Pearson', 'LR', 'padrão', table, lin_reg, x_train_list, y_train_list)\n",
    "table = results('Pearson', 'DT', 'padrão',table, tree_reg, x_train_list, y_train_list)\n",
    "table = results('Pearson', 'RF', 'padrão',table, rf, x_train_list, y_train_list)\n",
    "table = results('Pearson', 'XGB', 'padrão',table, xgb, x_train_list, y_train_list)\n",
    "table = results('Pearson', 'SVM', 'padrão',table, svm, x_train_list, y_train_list)"
   ]
  },
  {
   "attachments": {},
   "cell_type": "markdown",
   "metadata": {},
   "source": [
    "Data: Weight <= 100 Kg"
   ]
  },
  {
   "cell_type": "code",
   "execution_count": 26,
   "metadata": {},
   "outputs": [],
   "source": [
    "x_train_list, x_test_list, y_train_list, y_test_list = splitDataFrame(x_n, y_n, pearson)"
   ]
  },
  {
   "cell_type": "code",
   "execution_count": 27,
   "metadata": {},
   "outputs": [],
   "source": [
    "lin_reg = []\n",
    "tree_reg = []\n",
    "rf = []\n",
    "xgb = []\n",
    "svm = []\n",
    "\n",
    "for i in range(13):\n",
    "    lin_reg.append(linRegModel(x_train_list[i], y_train_list[i]))\n",
    "    tree_reg.append(treeRegModel(x_train_list[i], y_train_list[i]))\n",
    "    rf.append(rfModel(x_train_list[i], y_train_list[i]))\n",
    "    xgb.append(xgbModel(x_train_list[i], y_train_list[i]))\n",
    "    svm.append(svmModel(x_train_list[i], y_train_list[i]))"
   ]
  },
  {
   "cell_type": "code",
   "execution_count": 28,
   "metadata": {},
   "outputs": [],
   "source": [
    "table = results('Pearson', 'LR', '<=100', table, lin_reg, x_train_list, y_train_list)\n",
    "table = results('Pearson', 'DT', '<=100',table, tree_reg, x_train_list, y_train_list)\n",
    "table = results('Pearson', 'RF', '<=100',table, rf, x_train_list, y_train_list)\n",
    "table = results('Pearson', 'XGB', '<=100',table, xgb, x_train_list, y_train_list)\n",
    "table = results('Pearson', 'SVM', '<=100',table, svm, x_train_list, y_train_list)"
   ]
  },
  {
   "attachments": {},
   "cell_type": "markdown",
   "metadata": {},
   "source": [
    "Data: Weight > 100 Kg"
   ]
  },
  {
   "cell_type": "code",
   "execution_count": 29,
   "metadata": {},
   "outputs": [],
   "source": [
    "x_train_list, x_test_list, y_train_list, y_test_list = splitDataFrame(x_h, y_h, pearson)"
   ]
  },
  {
   "cell_type": "code",
   "execution_count": 30,
   "metadata": {},
   "outputs": [],
   "source": [
    "lin_reg = []\n",
    "tree_reg = []\n",
    "rf = []\n",
    "xgb = []\n",
    "svm = []\n",
    "\n",
    "for i in range(13):\n",
    "    lin_reg.append(linRegModel(x_train_list[i], y_train_list[i]))\n",
    "    tree_reg.append(treeRegModel(x_train_list[i], y_train_list[i]))\n",
    "    rf.append(rfModel(x_train_list[i], y_train_list[i]))\n",
    "    xgb.append(xgbModel(x_train_list[i], y_train_list[i]))\n",
    "    svm.append(svmModel(x_train_list[i], y_train_list[i]))"
   ]
  },
  {
   "cell_type": "code",
   "execution_count": 31,
   "metadata": {},
   "outputs": [],
   "source": [
    "table = results('Pearson', 'LR', '>100', table, lin_reg, x_train_list, y_train_list)\n",
    "table = results('Pearson', 'DT', '>100',table, tree_reg, x_train_list, y_train_list)\n",
    "table = results('Pearson', 'RF', '>100',table, rf, x_train_list, y_train_list)\n",
    "table = results('Pearson', 'XGB', '>100',table, xgb, x_train_list, y_train_list)\n",
    "table = results('Pearson', 'SVM', '>100',table, svm, x_train_list, y_train_list)"
   ]
  },
  {
   "attachments": {},
   "cell_type": "markdown",
   "metadata": {},
   "source": [
    "#### Feature Selection: Lasso"
   ]
  },
  {
   "attachments": {},
   "cell_type": "markdown",
   "metadata": {},
   "source": [
    "Data: Whole dataset"
   ]
  },
  {
   "cell_type": "code",
   "execution_count": 32,
   "metadata": {},
   "outputs": [],
   "source": [
    "x_train_list, x_test_list, y_train_list, y_test_list = splitDataFrame(x, y, lasso)"
   ]
  },
  {
   "cell_type": "code",
   "execution_count": 33,
   "metadata": {},
   "outputs": [],
   "source": [
    "lin_reg = []\n",
    "tree_reg = []\n",
    "rf = []\n",
    "xgb = []\n",
    "svm = []\n",
    "\n",
    "for i in range(13):\n",
    "    lin_reg.append(linRegModel(x_train_list[i], y_train_list[i]))\n",
    "    tree_reg.append(treeRegModel(x_train_list[i], y_train_list[i]))\n",
    "    rf.append(rfModel(x_train_list[i], y_train_list[i]))\n",
    "    xgb.append(xgbModel(x_train_list[i], y_train_list[i]))\n",
    "    svm.append(svmModel(x_train_list[i], y_train_list[i]))"
   ]
  },
  {
   "cell_type": "code",
   "execution_count": 34,
   "metadata": {},
   "outputs": [],
   "source": [
    "table = results('Lasso', 'LR', 'padrão', table, lin_reg, x_train_list, y_train_list)\n",
    "table = results('Lasso', 'DT', 'padrão',table, tree_reg, x_train_list, y_train_list)\n",
    "table = results('Lasso', 'RF', 'padrão',table, rf, x_train_list, y_train_list)\n",
    "table = results('Lasso', 'XGB', 'padrão',table, xgb, x_train_list, y_train_list)\n",
    "table = results('Lasso', 'SVM', 'padrão',table, svm, x_train_list, y_train_list)"
   ]
  },
  {
   "attachments": {},
   "cell_type": "markdown",
   "metadata": {},
   "source": [
    "Data: Weight <= 100 Kg"
   ]
  },
  {
   "cell_type": "code",
   "execution_count": 35,
   "metadata": {},
   "outputs": [],
   "source": [
    "x_train_list, x_test_list, y_train_list, y_test_list = splitDataFrame(x_n, y_n, lasso)"
   ]
  },
  {
   "cell_type": "code",
   "execution_count": 36,
   "metadata": {},
   "outputs": [],
   "source": [
    "lin_reg = []\n",
    "tree_reg = []\n",
    "rf = []\n",
    "xgb = []\n",
    "svm = []\n",
    "\n",
    "for i in range(13):\n",
    "    lin_reg.append(linRegModel(x_train_list[i], y_train_list[i]))\n",
    "    tree_reg.append(treeRegModel(x_train_list[i], y_train_list[i]))\n",
    "    rf.append(rfModel(x_train_list[i], y_train_list[i]))\n",
    "    xgb.append(xgbModel(x_train_list[i], y_train_list[i]))\n",
    "    svm.append(svmModel(x_train_list[i], y_train_list[i]))"
   ]
  },
  {
   "cell_type": "code",
   "execution_count": 37,
   "metadata": {},
   "outputs": [],
   "source": [
    "table = results('Lasso', 'LR', '<=100', table, lin_reg, x_train_list, y_train_list)\n",
    "table = results('Lasso', 'DT', '<=100',table, tree_reg, x_train_list, y_train_list)\n",
    "table = results('Lasso', 'RF', '<=100',table, rf, x_train_list, y_train_list)\n",
    "table = results('Lasso', 'XGB', '<=100',table, xgb, x_train_list, y_train_list)\n",
    "table = results('Lasso', 'SVM', '<=100',table, svm, x_train_list, y_train_list)"
   ]
  },
  {
   "attachments": {},
   "cell_type": "markdown",
   "metadata": {},
   "source": [
    "Data: Weight > 100 Kg"
   ]
  },
  {
   "cell_type": "code",
   "execution_count": 38,
   "metadata": {},
   "outputs": [],
   "source": [
    "x_train_list, x_test_list, y_train_list, y_test_list = splitDataFrame(x_h, y_h, lasso)"
   ]
  },
  {
   "cell_type": "code",
   "execution_count": 39,
   "metadata": {},
   "outputs": [],
   "source": [
    "lin_reg = []\n",
    "tree_reg = []\n",
    "rf = []\n",
    "xgb = []\n",
    "svm = []\n",
    "\n",
    "for i in range(13):\n",
    "    lin_reg.append(linRegModel(x_train_list[i], y_train_list[i]))\n",
    "    tree_reg.append(treeRegModel(x_train_list[i], y_train_list[i]))\n",
    "    rf.append(rfModel(x_train_list[i], y_train_list[i]))\n",
    "    xgb.append(xgbModel(x_train_list[i], y_train_list[i]))\n",
    "    svm.append(svmModel(x_train_list[i], y_train_list[i]))"
   ]
  },
  {
   "cell_type": "code",
   "execution_count": 40,
   "metadata": {},
   "outputs": [],
   "source": [
    "table = results('Lasso', 'LR', '>100', table, lin_reg, x_train_list, y_train_list)\n",
    "table = results('Lasso', 'DT', '>100',table, tree_reg, x_train_list, y_train_list)\n",
    "table = results('Lasso', 'RF', '>100',table, rf, x_train_list, y_train_list)\n",
    "table = results('Lasso', 'XGB', '>100',table, xgb, x_train_list, y_train_list)\n",
    "table = results('Lasso', 'SVM', '>100',table, svm, x_train_list, y_train_list)"
   ]
  },
  {
   "attachments": {},
   "cell_type": "markdown",
   "metadata": {},
   "source": [
    "#### Feature Selection: RFE"
   ]
  },
  {
   "attachments": {},
   "cell_type": "markdown",
   "metadata": {},
   "source": [
    "Data: Whole dataset"
   ]
  },
  {
   "cell_type": "code",
   "execution_count": 41,
   "metadata": {},
   "outputs": [],
   "source": [
    "x_train_list, x_test_list, y_train_list, y_test_list = splitDataFrame(x, y, rfe)"
   ]
  },
  {
   "cell_type": "code",
   "execution_count": 42,
   "metadata": {},
   "outputs": [],
   "source": [
    "lin_reg = []\n",
    "tree_reg = []\n",
    "rf = []\n",
    "xgb = []\n",
    "svm = []\n",
    "\n",
    "for i in range(13):\n",
    "    lin_reg.append(linRegModel(x_train_list[i], y_train_list[i]))\n",
    "    tree_reg.append(treeRegModel(x_train_list[i], y_train_list[i]))\n",
    "    rf.append(rfModel(x_train_list[i], y_train_list[i]))\n",
    "    xgb.append(xgbModel(x_train_list[i], y_train_list[i]))\n",
    "    svm.append(svmModel(x_train_list[i], y_train_list[i]))"
   ]
  },
  {
   "cell_type": "code",
   "execution_count": 43,
   "metadata": {},
   "outputs": [],
   "source": [
    "table = results('RFE', 'LR', 'padrão', table, lin_reg, x_train_list, y_train_list)\n",
    "table = results('RFE', 'DT', 'padrão',table, tree_reg, x_train_list, y_train_list)\n",
    "table = results('RFE', 'RF', 'padrão',table, rf, x_train_list, y_train_list)\n",
    "table = results('RFE', 'XGB', 'padrão',table, xgb, x_train_list, y_train_list)\n",
    "table = results('RFE', 'SVM', 'padrão',table, svm, x_train_list, y_train_list)"
   ]
  },
  {
   "attachments": {},
   "cell_type": "markdown",
   "metadata": {},
   "source": [
    "Data: Weight <= 100 Kg"
   ]
  },
  {
   "cell_type": "code",
   "execution_count": 44,
   "metadata": {},
   "outputs": [],
   "source": [
    "x_train_list, x_test_list, y_train_list, y_test_list = splitDataFrame(x_n, y_n, rfe)"
   ]
  },
  {
   "cell_type": "code",
   "execution_count": 45,
   "metadata": {},
   "outputs": [],
   "source": [
    "lin_reg = []\n",
    "tree_reg = []\n",
    "rf = []\n",
    "xgb = []\n",
    "svm = []\n",
    "\n",
    "for i in range(13):\n",
    "    lin_reg.append(linRegModel(x_train_list[i], y_train_list[i]))\n",
    "    tree_reg.append(treeRegModel(x_train_list[i], y_train_list[i]))\n",
    "    rf.append(rfModel(x_train_list[i], y_train_list[i]))\n",
    "    xgb.append(xgbModel(x_train_list[i], y_train_list[i]))\n",
    "    svm.append(svmModel(x_train_list[i], y_train_list[i]))"
   ]
  },
  {
   "cell_type": "code",
   "execution_count": 46,
   "metadata": {},
   "outputs": [],
   "source": [
    "table = results('RFE', 'LR', '<=100', table, lin_reg, x_train_list, y_train_list)\n",
    "table = results('RFE', 'DT', '<=100',table, tree_reg, x_train_list, y_train_list)\n",
    "table = results('RFE', 'RF', '<=100',table, rf, x_train_list, y_train_list)\n",
    "table = results('RFE', 'XGB', '<=100',table, xgb, x_train_list, y_train_list)\n",
    "table = results('RFE', 'SVM', '<=100',table, svm, x_train_list, y_train_list)"
   ]
  },
  {
   "attachments": {},
   "cell_type": "markdown",
   "metadata": {},
   "source": [
    "Data: Weight > 100 Kg"
   ]
  },
  {
   "cell_type": "code",
   "execution_count": 47,
   "metadata": {},
   "outputs": [],
   "source": [
    "x_train_list, x_test_list, y_train_list, y_test_list = splitDataFrame(x_h, y_h, rfe)"
   ]
  },
  {
   "cell_type": "code",
   "execution_count": 48,
   "metadata": {},
   "outputs": [],
   "source": [
    "lin_reg = []\n",
    "tree_reg = []\n",
    "rf = []\n",
    "xgb = []\n",
    "svm = []\n",
    "\n",
    "for i in range(13):\n",
    "    lin_reg.append(linRegModel(x_train_list[i], y_train_list[i]))\n",
    "    tree_reg.append(treeRegModel(x_train_list[i], y_train_list[i]))\n",
    "    rf.append(rfModel(x_train_list[i], y_train_list[i]))\n",
    "    xgb.append(xgbModel(x_train_list[i], y_train_list[i]))\n",
    "    svm.append(svmModel(x_train_list[i], y_train_list[i]))"
   ]
  },
  {
   "cell_type": "code",
   "execution_count": 49,
   "metadata": {},
   "outputs": [],
   "source": [
    "table = results('RFE', 'LR', '>100', table, lin_reg, x_train_list, y_train_list)\n",
    "table = results('RFE', 'DT', '>100',table, tree_reg, x_train_list, y_train_list)\n",
    "table = results('RFE', 'RF', '>100',table, rf, x_train_list, y_train_list)\n",
    "table = results('RFE', 'XGB', '>100',table, xgb, x_train_list, y_train_list)\n",
    "table = results('RFE', 'SVM', '>100',table, svm, x_train_list, y_train_list)"
   ]
  },
  {
   "cell_type": "code",
   "execution_count": 50,
   "metadata": {},
   "outputs": [
    {
     "name": "stdout",
     "output_type": "stream",
     "text": [
      "                  0       1               2         3       4       5       6\n",
      "0    feat_selection  modelo  data_partition  feat_set     MAE    MAPE    RMSE\n",
      "1           Pearson      LR          padrão         1  0.2913  3.9994  4.8699\n",
      "2           Pearson      LR          padrão         2  0.2887  3.9507  4.7465\n",
      "3           Pearson      LR          padrão         3  0.2818  3.8314  4.6691\n",
      "4           Pearson      LR          padrão         4  0.2751  3.6953  4.4827\n",
      "..              ...     ...             ...       ...     ...     ...     ...\n",
      "581             RFE     SVM            >100         9  0.2393  6.1075   6.717\n",
      "582             RFE     SVM            >100        10  0.2427  6.1975  6.7811\n",
      "583             RFE     SVM            >100        11  0.2485  6.3595  6.9027\n",
      "584             RFE     SVM            >100        12  0.2515  6.4518  6.9939\n",
      "585             RFE     SVM            >100        13  0.2514  6.4465  6.9843\n",
      "\n",
      "[586 rows x 7 columns]\n"
     ]
    }
   ],
   "source": [
    "tabela_resultados = pd.DataFrame(table)\n",
    "print(tabela_resultados)"
   ]
  },
  {
   "cell_type": "code",
   "execution_count": 51,
   "metadata": {},
   "outputs": [],
   "source": [
    "tabela_resultados.to_csv('resultados.csv')"
   ]
  },
  {
   "attachments": {},
   "cell_type": "markdown",
   "metadata": {},
   "source": [
    "#### Outlier Detection"
   ]
  }
 ],
 "metadata": {
  "kernelspec": {
   "display_name": "Python 3",
   "language": "python",
   "name": "python3"
  },
  "language_info": {
   "codemirror_mode": {
    "name": "ipython",
    "version": 3
   },
   "file_extension": ".py",
   "mimetype": "text/x-python",
   "name": "python",
   "nbconvert_exporter": "python",
   "pygments_lexer": "ipython3",
   "version": "3.10.6 (tags/v3.10.6:9c7b4bd, Aug  1 2022, 21:53:49) [MSC v.1932 64 bit (AMD64)]"
  },
  "orig_nbformat": 4,
  "vscode": {
   "interpreter": {
    "hash": "48c9f750f33b3ee0dc6395d47332004cd8bcdcc3058adec106970c28abf5dacd"
   }
  }
 },
 "nbformat": 4,
 "nbformat_minor": 2
}
